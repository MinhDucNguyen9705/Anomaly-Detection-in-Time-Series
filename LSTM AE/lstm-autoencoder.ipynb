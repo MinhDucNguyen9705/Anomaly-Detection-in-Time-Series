{
 "cells": [
  {
   "cell_type": "code",
   "execution_count": 1,
   "id": "d2107bc7",
   "metadata": {
    "_cell_guid": "b1076dfc-b9ad-4769-8c92-a6c4dae69d19",
    "_uuid": "8f2839f25d086af736a60e9eeb907d3b93b6e0e5",
    "execution": {
     "iopub.execute_input": "2025-06-09T15:48:26.939956Z",
     "iopub.status.busy": "2025-06-09T15:48:26.939691Z",
     "iopub.status.idle": "2025-06-09T15:48:33.818904Z",
     "shell.execute_reply": "2025-06-09T15:48:33.818303Z"
    },
    "papermill": {
     "duration": 6.888518,
     "end_time": "2025-06-09T15:48:33.820333",
     "exception": false,
     "start_time": "2025-06-09T15:48:26.931815",
     "status": "completed"
    },
    "tags": []
   },
   "outputs": [],
   "source": [
    "import pandas as pd\n",
    "import matplotlib.pyplot as plt\n",
    "import warnings\n",
    "import numpy as np\n",
    "import torch\n",
    "import torch.nn as nn\n",
    "import torch.optim as optim\n",
    "from torch.utils.data import TensorDataset, DataLoader\n",
    "from sklearn.preprocessing import MinMaxScaler\n",
    "from sklearn.model_selection import train_test_split\n",
    "import copy\n",
    "import seaborn as sns\n",
    "warnings.filterwarnings(\"ignore\")"
   ]
  },
  {
   "cell_type": "code",
   "execution_count": 2,
   "id": "2b2efe0c",
   "metadata": {
    "execution": {
     "iopub.execute_input": "2025-06-09T15:48:33.833878Z",
     "iopub.status.busy": "2025-06-09T15:48:33.833268Z",
     "iopub.status.idle": "2025-06-09T15:48:33.836597Z",
     "shell.execute_reply": "2025-06-09T15:48:33.836033Z"
    },
    "papermill": {
     "duration": 0.010706,
     "end_time": "2025-06-09T15:48:33.837540",
     "exception": false,
     "start_time": "2025-06-09T15:48:33.826834",
     "status": "completed"
    },
    "tags": []
   },
   "outputs": [],
   "source": [
    "file_path = '/kaggle/input/wadi-data/'"
   ]
  },
  {
   "cell_type": "code",
   "execution_count": 3,
   "id": "bc0ad3dc",
   "metadata": {
    "execution": {
     "iopub.execute_input": "2025-06-09T15:48:33.849376Z",
     "iopub.status.busy": "2025-06-09T15:48:33.849196Z",
     "iopub.status.idle": "2025-06-09T15:48:47.318816Z",
     "shell.execute_reply": "2025-06-09T15:48:47.318156Z"
    },
    "papermill": {
     "duration": 13.477081,
     "end_time": "2025-06-09T15:48:47.320240",
     "exception": false,
     "start_time": "2025-06-09T15:48:33.843159",
     "status": "completed"
    },
    "tags": []
   },
   "outputs": [],
   "source": [
    "df_raw = pd.read_csv(file_path + 'WADI_14days_new.csv')\n",
    "df = df_raw.iloc[:,3:]"
   ]
  },
  {
   "cell_type": "code",
   "execution_count": 4,
   "id": "bd95212d",
   "metadata": {
    "execution": {
     "iopub.execute_input": "2025-06-09T15:48:47.333063Z",
     "iopub.status.busy": "2025-06-09T15:48:47.332831Z",
     "iopub.status.idle": "2025-06-09T15:48:50.936538Z",
     "shell.execute_reply": "2025-06-09T15:48:50.935702Z"
    },
    "papermill": {
     "duration": 3.611574,
     "end_time": "2025-06-09T15:48:50.937932",
     "exception": false,
     "start_time": "2025-06-09T15:48:47.326358",
     "status": "completed"
    },
    "tags": []
   },
   "outputs": [],
   "source": [
    "atk_raw = pd.read_csv(file_path + 'WADI_attackdataLABLE.csv')\n",
    "atk = atk_raw.iloc[:-2,3:]"
   ]
  },
  {
   "cell_type": "code",
   "execution_count": 5,
   "id": "6788fc69",
   "metadata": {
    "execution": {
     "iopub.execute_input": "2025-06-09T15:48:50.951495Z",
     "iopub.status.busy": "2025-06-09T15:48:50.950869Z",
     "iopub.status.idle": "2025-06-09T15:48:51.150179Z",
     "shell.execute_reply": "2025-06-09T15:48:51.149477Z"
    },
    "papermill": {
     "duration": 0.207407,
     "end_time": "2025-06-09T15:48:51.151429",
     "exception": false,
     "start_time": "2025-06-09T15:48:50.944022",
     "status": "completed"
    },
    "tags": []
   },
   "outputs": [],
   "source": [
    "new_header = atk.iloc[0]\n",
    "atk = atk[1:].reset_index(drop=True)\n",
    "atk.columns = new_header"
   ]
  },
  {
   "cell_type": "code",
   "execution_count": 6,
   "id": "fcef72e1",
   "metadata": {
    "execution": {
     "iopub.execute_input": "2025-06-09T15:48:51.164483Z",
     "iopub.status.busy": "2025-06-09T15:48:51.164238Z",
     "iopub.status.idle": "2025-06-09T15:48:51.606614Z",
     "shell.execute_reply": "2025-06-09T15:48:51.605801Z"
    },
    "papermill": {
     "duration": 0.450125,
     "end_time": "2025-06-09T15:48:51.607993",
     "exception": false,
     "start_time": "2025-06-09T15:48:51.157868",
     "status": "completed"
    },
    "tags": []
   },
   "outputs": [],
   "source": [
    "cols_to_drop = [47, 48, 83, 84]\n",
    "\n",
    "dropped_df = df.drop(df.columns[cols_to_drop], axis=1)\n",
    "dropped_atk = atk.drop(atk.columns[cols_to_drop], axis=1)\n"
   ]
  },
  {
   "cell_type": "code",
   "execution_count": 7,
   "id": "4c296d59",
   "metadata": {
    "execution": {
     "iopub.execute_input": "2025-06-09T15:48:51.620448Z",
     "iopub.status.busy": "2025-06-09T15:48:51.620190Z",
     "iopub.status.idle": "2025-06-09T15:48:51.892335Z",
     "shell.execute_reply": "2025-06-09T15:48:51.891778Z"
    },
    "papermill": {
     "duration": 0.279767,
     "end_time": "2025-06-09T15:48:51.893656",
     "exception": false,
     "start_time": "2025-06-09T15:48:51.613889",
     "status": "completed"
    },
    "tags": []
   },
   "outputs": [],
   "source": [
    "dropped_df.fillna(method='bfill', inplace=True)"
   ]
  },
  {
   "cell_type": "code",
   "execution_count": 8,
   "id": "62351921",
   "metadata": {
    "execution": {
     "iopub.execute_input": "2025-06-09T15:48:51.906085Z",
     "iopub.status.busy": "2025-06-09T15:48:51.905856Z",
     "iopub.status.idle": "2025-06-09T15:48:52.097163Z",
     "shell.execute_reply": "2025-06-09T15:48:52.096441Z"
    },
    "papermill": {
     "duration": 0.198883,
     "end_time": "2025-06-09T15:48:52.098493",
     "exception": false,
     "start_time": "2025-06-09T15:48:51.899610",
     "status": "completed"
    },
    "tags": []
   },
   "outputs": [
    {
     "data": {
      "text/plain": [
       "0"
      ]
     },
     "execution_count": 8,
     "metadata": {},
     "output_type": "execute_result"
    }
   ],
   "source": [
    "sum(dropped_df.isna().sum())"
   ]
  },
  {
   "cell_type": "code",
   "execution_count": 9,
   "id": "d8eaa6c7",
   "metadata": {
    "execution": {
     "iopub.execute_input": "2025-06-09T15:48:52.111716Z",
     "iopub.status.busy": "2025-06-09T15:48:52.111487Z",
     "iopub.status.idle": "2025-06-09T15:48:52.318787Z",
     "shell.execute_reply": "2025-06-09T15:48:52.317941Z"
    },
    "papermill": {
     "duration": 0.21549,
     "end_time": "2025-06-09T15:48:52.320212",
     "exception": false,
     "start_time": "2025-06-09T15:48:52.104722",
     "status": "completed"
    },
    "tags": []
   },
   "outputs": [],
   "source": [
    "dropped_atk.drop(columns=['2B_AIT_002_PV'], inplace=True)"
   ]
  },
  {
   "cell_type": "code",
   "execution_count": 10,
   "id": "9b863c5a",
   "metadata": {
    "execution": {
     "iopub.execute_input": "2025-06-09T15:48:52.334819Z",
     "iopub.status.busy": "2025-06-09T15:48:52.334302Z",
     "iopub.status.idle": "2025-06-09T15:48:52.560562Z",
     "shell.execute_reply": "2025-06-09T15:48:52.559767Z"
    },
    "papermill": {
     "duration": 0.234809,
     "end_time": "2025-06-09T15:48:52.562126",
     "exception": false,
     "start_time": "2025-06-09T15:48:52.327317",
     "status": "completed"
    },
    "tags": []
   },
   "outputs": [],
   "source": [
    "dropped_df.drop(columns=['2B_AIT_002_PV'], inplace=True)"
   ]
  },
  {
   "cell_type": "code",
   "execution_count": 11,
   "id": "acd1db70",
   "metadata": {
    "execution": {
     "iopub.execute_input": "2025-06-09T15:48:52.575090Z",
     "iopub.status.busy": "2025-06-09T15:48:52.574848Z",
     "iopub.status.idle": "2025-06-09T15:48:52.645176Z",
     "shell.execute_reply": "2025-06-09T15:48:52.644460Z"
    },
    "papermill": {
     "duration": 0.078047,
     "end_time": "2025-06-09T15:48:52.646345",
     "exception": false,
     "start_time": "2025-06-09T15:48:52.568298",
     "status": "completed"
    },
    "tags": []
   },
   "outputs": [
    {
     "data": {
      "text/html": [
       "<div>\n",
       "<style scoped>\n",
       "    .dataframe tbody tr th:only-of-type {\n",
       "        vertical-align: middle;\n",
       "    }\n",
       "\n",
       "    .dataframe tbody tr th {\n",
       "        vertical-align: top;\n",
       "    }\n",
       "\n",
       "    .dataframe thead th {\n",
       "        text-align: right;\n",
       "    }\n",
       "</style>\n",
       "<table border=\"1\" class=\"dataframe\">\n",
       "  <thead>\n",
       "    <tr style=\"text-align: right;\">\n",
       "      <th></th>\n",
       "      <th>1_AIT_001_PV</th>\n",
       "      <th>1_AIT_002_PV</th>\n",
       "      <th>1_AIT_003_PV</th>\n",
       "      <th>1_AIT_004_PV</th>\n",
       "      <th>1_AIT_005_PV</th>\n",
       "      <th>1_FIT_001_PV</th>\n",
       "      <th>1_LS_001_AL</th>\n",
       "      <th>1_LS_002_AL</th>\n",
       "      <th>1_LT_001_PV</th>\n",
       "      <th>1_MV_001_STATUS</th>\n",
       "      <th>...</th>\n",
       "      <th>3_MV_002_STATUS</th>\n",
       "      <th>3_MV_003_STATUS</th>\n",
       "      <th>3_P_001_STATUS</th>\n",
       "      <th>3_P_002_STATUS</th>\n",
       "      <th>3_P_003_STATUS</th>\n",
       "      <th>3_P_004_STATUS</th>\n",
       "      <th>LEAK_DIFF_PRESSURE</th>\n",
       "      <th>PLANT_START_STOP_LOG</th>\n",
       "      <th>TOTAL_CONS_REQUIRED_FLOW</th>\n",
       "      <th>Attack LABLE (1:No Attack, -1:Attack)</th>\n",
       "    </tr>\n",
       "  </thead>\n",
       "  <tbody>\n",
       "    <tr>\n",
       "      <th>0</th>\n",
       "      <td>164.21</td>\n",
       "      <td>0.529486</td>\n",
       "      <td>11.9972</td>\n",
       "      <td>482.48</td>\n",
       "      <td>0.331167</td>\n",
       "      <td>0.00127323</td>\n",
       "      <td>0</td>\n",
       "      <td>0</td>\n",
       "      <td>48.482</td>\n",
       "      <td>1</td>\n",
       "      <td>...</td>\n",
       "      <td>1</td>\n",
       "      <td>1</td>\n",
       "      <td>1</td>\n",
       "      <td>1</td>\n",
       "      <td>1</td>\n",
       "      <td>1</td>\n",
       "      <td>62.6226</td>\n",
       "      <td>1</td>\n",
       "      <td>0.39</td>\n",
       "      <td>1</td>\n",
       "    </tr>\n",
       "    <tr>\n",
       "      <th>1</th>\n",
       "      <td>164.21</td>\n",
       "      <td>0.529486</td>\n",
       "      <td>11.9972</td>\n",
       "      <td>482.48</td>\n",
       "      <td>0.331167</td>\n",
       "      <td>0.00127323</td>\n",
       "      <td>0</td>\n",
       "      <td>0</td>\n",
       "      <td>48.482</td>\n",
       "      <td>1</td>\n",
       "      <td>...</td>\n",
       "      <td>1</td>\n",
       "      <td>1</td>\n",
       "      <td>1</td>\n",
       "      <td>1</td>\n",
       "      <td>1</td>\n",
       "      <td>1</td>\n",
       "      <td>62.6226</td>\n",
       "      <td>1</td>\n",
       "      <td>0.39</td>\n",
       "      <td>1</td>\n",
       "    </tr>\n",
       "    <tr>\n",
       "      <th>2</th>\n",
       "      <td>164.21</td>\n",
       "      <td>0.529486</td>\n",
       "      <td>11.9972</td>\n",
       "      <td>482.48</td>\n",
       "      <td>0.331167</td>\n",
       "      <td>0.00127323</td>\n",
       "      <td>0</td>\n",
       "      <td>0</td>\n",
       "      <td>48.482</td>\n",
       "      <td>1</td>\n",
       "      <td>...</td>\n",
       "      <td>1</td>\n",
       "      <td>1</td>\n",
       "      <td>1</td>\n",
       "      <td>1</td>\n",
       "      <td>1</td>\n",
       "      <td>1</td>\n",
       "      <td>62.6226</td>\n",
       "      <td>1</td>\n",
       "      <td>0.39</td>\n",
       "      <td>1</td>\n",
       "    </tr>\n",
       "    <tr>\n",
       "      <th>3</th>\n",
       "      <td>164.21</td>\n",
       "      <td>0.529486</td>\n",
       "      <td>11.9972</td>\n",
       "      <td>482.48</td>\n",
       "      <td>0.331167</td>\n",
       "      <td>0.00127323</td>\n",
       "      <td>0</td>\n",
       "      <td>0</td>\n",
       "      <td>48.482</td>\n",
       "      <td>1</td>\n",
       "      <td>...</td>\n",
       "      <td>1</td>\n",
       "      <td>1</td>\n",
       "      <td>1</td>\n",
       "      <td>1</td>\n",
       "      <td>1</td>\n",
       "      <td>1</td>\n",
       "      <td>62.6226</td>\n",
       "      <td>1</td>\n",
       "      <td>0.39</td>\n",
       "      <td>1</td>\n",
       "    </tr>\n",
       "    <tr>\n",
       "      <th>4</th>\n",
       "      <td>164.21</td>\n",
       "      <td>0.529486</td>\n",
       "      <td>11.9972</td>\n",
       "      <td>482.48</td>\n",
       "      <td>0.331167</td>\n",
       "      <td>0.00127323</td>\n",
       "      <td>0</td>\n",
       "      <td>0</td>\n",
       "      <td>48.482</td>\n",
       "      <td>1</td>\n",
       "      <td>...</td>\n",
       "      <td>1</td>\n",
       "      <td>1</td>\n",
       "      <td>1</td>\n",
       "      <td>1</td>\n",
       "      <td>1</td>\n",
       "      <td>1</td>\n",
       "      <td>62.6226</td>\n",
       "      <td>1</td>\n",
       "      <td>0.39</td>\n",
       "      <td>1</td>\n",
       "    </tr>\n",
       "    <tr>\n",
       "      <th>...</th>\n",
       "      <td>...</td>\n",
       "      <td>...</td>\n",
       "      <td>...</td>\n",
       "      <td>...</td>\n",
       "      <td>...</td>\n",
       "      <td>...</td>\n",
       "      <td>...</td>\n",
       "      <td>...</td>\n",
       "      <td>...</td>\n",
       "      <td>...</td>\n",
       "      <td>...</td>\n",
       "      <td>...</td>\n",
       "      <td>...</td>\n",
       "      <td>...</td>\n",
       "      <td>...</td>\n",
       "      <td>...</td>\n",
       "      <td>...</td>\n",
       "      <td>...</td>\n",
       "      <td>...</td>\n",
       "      <td>...</td>\n",
       "      <td>...</td>\n",
       "    </tr>\n",
       "    <tr>\n",
       "      <th>172796</th>\n",
       "      <td>172.959</td>\n",
       "      <td>0.547483</td>\n",
       "      <td>11.9184</td>\n",
       "      <td>466.034</td>\n",
       "      <td>0.318217</td>\n",
       "      <td>0.001222</td>\n",
       "      <td>0.0</td>\n",
       "      <td>0.0</td>\n",
       "      <td>55.5587</td>\n",
       "      <td>1.0</td>\n",
       "      <td>...</td>\n",
       "      <td>1.0</td>\n",
       "      <td>1.0</td>\n",
       "      <td>1.0</td>\n",
       "      <td>1.0</td>\n",
       "      <td>1.0</td>\n",
       "      <td>1.0</td>\n",
       "      <td>59.3546</td>\n",
       "      <td>1.0</td>\n",
       "      <td>0.0</td>\n",
       "      <td>1</td>\n",
       "    </tr>\n",
       "    <tr>\n",
       "      <th>172797</th>\n",
       "      <td>172.959</td>\n",
       "      <td>0.547483</td>\n",
       "      <td>11.9184</td>\n",
       "      <td>466.034</td>\n",
       "      <td>0.318217</td>\n",
       "      <td>0.001222</td>\n",
       "      <td>0.0</td>\n",
       "      <td>0.0</td>\n",
       "      <td>55.5587</td>\n",
       "      <td>1.0</td>\n",
       "      <td>...</td>\n",
       "      <td>1.0</td>\n",
       "      <td>1.0</td>\n",
       "      <td>1.0</td>\n",
       "      <td>1.0</td>\n",
       "      <td>1.0</td>\n",
       "      <td>1.0</td>\n",
       "      <td>59.3546</td>\n",
       "      <td>1.0</td>\n",
       "      <td>0.0</td>\n",
       "      <td>1</td>\n",
       "    </tr>\n",
       "    <tr>\n",
       "      <th>172798</th>\n",
       "      <td>172.915</td>\n",
       "      <td>0.583479</td>\n",
       "      <td>11.9211</td>\n",
       "      <td>466.051</td>\n",
       "      <td>0.318317</td>\n",
       "      <td>0.00126</td>\n",
       "      <td>0.0</td>\n",
       "      <td>0.0</td>\n",
       "      <td>55.726</td>\n",
       "      <td>1.0</td>\n",
       "      <td>...</td>\n",
       "      <td>1.0</td>\n",
       "      <td>1.0</td>\n",
       "      <td>1.0</td>\n",
       "      <td>1.0</td>\n",
       "      <td>1.0</td>\n",
       "      <td>1.0</td>\n",
       "      <td>58.8102</td>\n",
       "      <td>1.0</td>\n",
       "      <td>0.0</td>\n",
       "      <td>1</td>\n",
       "    </tr>\n",
       "    <tr>\n",
       "      <th>172799</th>\n",
       "      <td>172.915</td>\n",
       "      <td>0.583479</td>\n",
       "      <td>11.9211</td>\n",
       "      <td>466.051</td>\n",
       "      <td>0.318317</td>\n",
       "      <td>0.00126</td>\n",
       "      <td>0.0</td>\n",
       "      <td>0.0</td>\n",
       "      <td>55.726</td>\n",
       "      <td>1.0</td>\n",
       "      <td>...</td>\n",
       "      <td>1.0</td>\n",
       "      <td>1.0</td>\n",
       "      <td>1.0</td>\n",
       "      <td>1.0</td>\n",
       "      <td>1.0</td>\n",
       "      <td>1.0</td>\n",
       "      <td>58.8102</td>\n",
       "      <td>1.0</td>\n",
       "      <td>0.0</td>\n",
       "      <td>1</td>\n",
       "    </tr>\n",
       "    <tr>\n",
       "      <th>172800</th>\n",
       "      <td>172.915</td>\n",
       "      <td>0.583479</td>\n",
       "      <td>11.9211</td>\n",
       "      <td>466.051</td>\n",
       "      <td>0.318317</td>\n",
       "      <td>0.00126</td>\n",
       "      <td>0.0</td>\n",
       "      <td>0.0</td>\n",
       "      <td>55.726</td>\n",
       "      <td>1.0</td>\n",
       "      <td>...</td>\n",
       "      <td>1.0</td>\n",
       "      <td>1.0</td>\n",
       "      <td>1.0</td>\n",
       "      <td>1.0</td>\n",
       "      <td>1.0</td>\n",
       "      <td>1.0</td>\n",
       "      <td>58.8102</td>\n",
       "      <td>1.0</td>\n",
       "      <td>0.0</td>\n",
       "      <td>1</td>\n",
       "    </tr>\n",
       "  </tbody>\n",
       "</table>\n",
       "<p>172801 rows × 123 columns</p>\n",
       "</div>"
      ],
      "text/plain": [
       "0      1_AIT_001_PV 1_AIT_002_PV 1_AIT_003_PV 1_AIT_004_PV 1_AIT_005_PV  \\\n",
       "0            164.21     0.529486      11.9972       482.48     0.331167   \n",
       "1            164.21     0.529486      11.9972       482.48     0.331167   \n",
       "2            164.21     0.529486      11.9972       482.48     0.331167   \n",
       "3            164.21     0.529486      11.9972       482.48     0.331167   \n",
       "4            164.21     0.529486      11.9972       482.48     0.331167   \n",
       "...             ...          ...          ...          ...          ...   \n",
       "172796      172.959     0.547483      11.9184      466.034     0.318217   \n",
       "172797      172.959     0.547483      11.9184      466.034     0.318217   \n",
       "172798      172.915     0.583479      11.9211      466.051     0.318317   \n",
       "172799      172.915     0.583479      11.9211      466.051     0.318317   \n",
       "172800      172.915     0.583479      11.9211      466.051     0.318317   \n",
       "\n",
       "0      1_FIT_001_PV 1_LS_001_AL 1_LS_002_AL 1_LT_001_PV 1_MV_001_STATUS  ...  \\\n",
       "0        0.00127323           0           0      48.482               1  ...   \n",
       "1        0.00127323           0           0      48.482               1  ...   \n",
       "2        0.00127323           0           0      48.482               1  ...   \n",
       "3        0.00127323           0           0      48.482               1  ...   \n",
       "4        0.00127323           0           0      48.482               1  ...   \n",
       "...             ...         ...         ...         ...             ...  ...   \n",
       "172796     0.001222         0.0         0.0     55.5587             1.0  ...   \n",
       "172797     0.001222         0.0         0.0     55.5587             1.0  ...   \n",
       "172798      0.00126         0.0         0.0      55.726             1.0  ...   \n",
       "172799      0.00126         0.0         0.0      55.726             1.0  ...   \n",
       "172800      0.00126         0.0         0.0      55.726             1.0  ...   \n",
       "\n",
       "0      3_MV_002_STATUS 3_MV_003_STATUS 3_P_001_STATUS 3_P_002_STATUS  \\\n",
       "0                    1               1              1              1   \n",
       "1                    1               1              1              1   \n",
       "2                    1               1              1              1   \n",
       "3                    1               1              1              1   \n",
       "4                    1               1              1              1   \n",
       "...                ...             ...            ...            ...   \n",
       "172796             1.0             1.0            1.0            1.0   \n",
       "172797             1.0             1.0            1.0            1.0   \n",
       "172798             1.0             1.0            1.0            1.0   \n",
       "172799             1.0             1.0            1.0            1.0   \n",
       "172800             1.0             1.0            1.0            1.0   \n",
       "\n",
       "0      3_P_003_STATUS 3_P_004_STATUS LEAK_DIFF_PRESSURE PLANT_START_STOP_LOG  \\\n",
       "0                   1              1            62.6226                    1   \n",
       "1                   1              1            62.6226                    1   \n",
       "2                   1              1            62.6226                    1   \n",
       "3                   1              1            62.6226                    1   \n",
       "4                   1              1            62.6226                    1   \n",
       "...               ...            ...                ...                  ...   \n",
       "172796            1.0            1.0            59.3546                  1.0   \n",
       "172797            1.0            1.0            59.3546                  1.0   \n",
       "172798            1.0            1.0            58.8102                  1.0   \n",
       "172799            1.0            1.0            58.8102                  1.0   \n",
       "172800            1.0            1.0            58.8102                  1.0   \n",
       "\n",
       "0      TOTAL_CONS_REQUIRED_FLOW Attack LABLE (1:No Attack, -1:Attack)  \n",
       "0                          0.39                                     1  \n",
       "1                          0.39                                     1  \n",
       "2                          0.39                                     1  \n",
       "3                          0.39                                     1  \n",
       "4                          0.39                                     1  \n",
       "...                         ...                                   ...  \n",
       "172796                      0.0                                     1  \n",
       "172797                      0.0                                     1  \n",
       "172798                      0.0                                     1  \n",
       "172799                      0.0                                     1  \n",
       "172800                      0.0                                     1  \n",
       "\n",
       "[172801 rows x 123 columns]"
      ]
     },
     "execution_count": 11,
     "metadata": {},
     "output_type": "execute_result"
    }
   ],
   "source": [
    "dropped_atk"
   ]
  },
  {
   "cell_type": "code",
   "execution_count": 12,
   "id": "65d4f080",
   "metadata": {
    "execution": {
     "iopub.execute_input": "2025-06-09T15:48:52.660153Z",
     "iopub.status.busy": "2025-06-09T15:48:52.659934Z",
     "iopub.status.idle": "2025-06-09T15:48:52.664117Z",
     "shell.execute_reply": "2025-06-09T15:48:52.663596Z"
    },
    "papermill": {
     "duration": 0.012222,
     "end_time": "2025-06-09T15:48:52.665107",
     "exception": false,
     "start_time": "2025-06-09T15:48:52.652885",
     "status": "completed"
    },
    "tags": []
   },
   "outputs": [
    {
     "data": {
      "text/plain": [
       "(784571, 122)"
      ]
     },
     "execution_count": 12,
     "metadata": {},
     "output_type": "execute_result"
    }
   ],
   "source": [
    "dropped_df.shape"
   ]
  },
  {
   "cell_type": "code",
   "execution_count": 13,
   "id": "acbf9ab2",
   "metadata": {
    "execution": {
     "iopub.execute_input": "2025-06-09T15:48:52.678343Z",
     "iopub.status.busy": "2025-06-09T15:48:52.678136Z",
     "iopub.status.idle": "2025-06-09T15:48:52.681929Z",
     "shell.execute_reply": "2025-06-09T15:48:52.681372Z"
    },
    "papermill": {
     "duration": 0.011669,
     "end_time": "2025-06-09T15:48:52.682918",
     "exception": false,
     "start_time": "2025-06-09T15:48:52.671249",
     "status": "completed"
    },
    "tags": []
   },
   "outputs": [],
   "source": [
    "N_SAMPLES = len(dropped_df)  # Number of total time series samples\n",
    "N_TIMESTEPS = 30  # Length of each time series sequence\n",
    "N_FEATURES = 122   # Number of features in the multivariate series\n",
    "ANOMALY_FRACTION = 0.1 # Percentage of data that will be anomalous\n",
    "ANOMALY_MAGNITUDE = 6\n",
    "HIDDEN_DIM_LSTM_1 = 128 # LSTM units for first encoder/decoder layer\n",
    "HIDDEN_DIM_LSTM_2 = 64  # LSTM units for second encoder/decoder layer (bottleneck representation)\n",
    "LEARNING_RATE = 1e-3\n",
    "EPOCHS = 200 # Increase for potentially better performance, watch for overfitting\n",
    "BATCH_SIZE = 64\n",
    "THRESHOLD_PERCENTILE = 95\n",
    "PATIENCE = 5"
   ]
  },
  {
   "cell_type": "code",
   "execution_count": 14,
   "id": "57996983",
   "metadata": {
    "execution": {
     "iopub.execute_input": "2025-06-09T15:48:52.695733Z",
     "iopub.status.busy": "2025-06-09T15:48:52.695562Z",
     "iopub.status.idle": "2025-06-09T15:48:52.698952Z",
     "shell.execute_reply": "2025-06-09T15:48:52.698476Z"
    },
    "papermill": {
     "duration": 0.010909,
     "end_time": "2025-06-09T15:48:52.699886",
     "exception": false,
     "start_time": "2025-06-09T15:48:52.688977",
     "status": "completed"
    },
    "tags": []
   },
   "outputs": [],
   "source": [
    "def build_dataset(data, window_size=N_TIMESTEPS, step=10):\n",
    "    X = []\n",
    "    for i in range(0, len(data) - window_size + 1, step):\n",
    "        window = data.iloc[i : i + window_size, :]\n",
    "        X.append(window.values)\n",
    "    return np.array(X)"
   ]
  },
  {
   "cell_type": "code",
   "execution_count": 15,
   "id": "98306e31",
   "metadata": {
    "execution": {
     "iopub.execute_input": "2025-06-09T15:48:52.712813Z",
     "iopub.status.busy": "2025-06-09T15:48:52.712620Z",
     "iopub.status.idle": "2025-06-09T15:49:00.965301Z",
     "shell.execute_reply": "2025-06-09T15:49:00.964778Z"
    },
    "papermill": {
     "duration": 8.260803,
     "end_time": "2025-06-09T15:49:00.966760",
     "exception": false,
     "start_time": "2025-06-09T15:48:52.705957",
     "status": "completed"
    },
    "tags": []
   },
   "outputs": [],
   "source": [
    "train = build_dataset(dropped_df)"
   ]
  },
  {
   "cell_type": "code",
   "execution_count": 16,
   "id": "09663627",
   "metadata": {
    "execution": {
     "iopub.execute_input": "2025-06-09T15:49:00.980631Z",
     "iopub.status.busy": "2025-06-09T15:49:00.980356Z",
     "iopub.status.idle": "2025-06-09T15:49:00.987074Z",
     "shell.execute_reply": "2025-06-09T15:49:00.986593Z"
    },
    "jupyter": {
     "source_hidden": true
    },
    "papermill": {
     "duration": 0.014551,
     "end_time": "2025-06-09T15:49:00.988002",
     "exception": false,
     "start_time": "2025-06-09T15:49:00.973451",
     "status": "completed"
    },
    "tags": []
   },
   "outputs": [],
   "source": [
    "class LSTMAutoencoder(nn.Module):\n",
    "    def __init__(self, n_features, n_timesteps, hidden_dim_lstm_1, hidden_dim_lstm_2):\n",
    "        super(LSTMAutoencoder, self).__init__()\n",
    "        self.n_features = n_features\n",
    "        self.n_timesteps = n_timesteps\n",
    "        self.hidden_dim_lstm_1 = hidden_dim_lstm_1\n",
    "        self.hidden_dim_lstm_2 = hidden_dim_lstm_2 # This will be our bottleneck dimension\n",
    "\n",
    "        # Encoder\n",
    "        self.encoder_lstm1 = nn.LSTM(\n",
    "            input_size=n_features,\n",
    "            hidden_size=hidden_dim_lstm_1,\n",
    "            num_layers=1,\n",
    "            batch_first=True # Expects (batch, seq, feature)\n",
    "        )\n",
    "        self.encoder_lstm2 = nn.LSTM(\n",
    "            input_size=hidden_dim_lstm_1,\n",
    "            hidden_size=hidden_dim_lstm_2, # Bottleneck\n",
    "            num_layers=1,\n",
    "            batch_first=True\n",
    "        )\n",
    "\n",
    "        # Decoder\n",
    "        self.decoder_lstm1 = nn.LSTM(\n",
    "            input_size=hidden_dim_lstm_2, # From bottleneck\n",
    "            hidden_size=hidden_dim_lstm_1,\n",
    "            num_layers=1,\n",
    "            batch_first=True\n",
    "        )\n",
    "        self.decoder_lstm2 = nn.LSTM(\n",
    "            input_size=hidden_dim_lstm_1,\n",
    "            hidden_size=n_features, # Output original number of features\n",
    "            num_layers=1,\n",
    "            batch_first=True\n",
    "        )\n",
    "        # A linear layer to ensure output matches input feature dim precisely if LSTM output isn't directly features\n",
    "        # However, setting last LSTM hidden_size to n_features often works.\n",
    "        # If you want to be explicit or apply activation like sigmoid:\n",
    "        self.output_fc = nn.Linear(n_features, n_features) # Or hidden_dim_lstm_1 if decoder_lstm2 outputs that\n",
    "        self.sigmoid = nn.Sigmoid() # Since data is scaled to 0-1\n",
    "\n",
    "    def forward(self, x):\n",
    "        # x shape: (batch_size, n_timesteps, n_features)\n",
    "\n",
    "        # Encoder\n",
    "        # LSTM output: (output_seq, (h_n, c_n))\n",
    "        # We are interested in the output sequence from the first LSTM\n",
    "        # and the final hidden state (or output sequence) from the bottleneck LSTM\n",
    "        encoded_seq1, _ = self.encoder_lstm1(x)\n",
    "        encoded_seq2, (hidden_n, cell_n) = self.encoder_lstm2(encoded_seq1)\n",
    "        # encoded_seq2 is (batch, seq_len, hidden_dim_lstm_2)\n",
    "        # The last output of the sequence from the bottleneck LSTM can act as the latent representation\n",
    "        # Or, more commonly for sequence-to-sequence, the entire output sequence `encoded_seq2` is used.\n",
    "        # For a more \"bottlenecked\" representation, one might take only the last hidden state `hidden_n`.\n",
    "        # Let's use the full output sequence of the bottleneck layer.\n",
    "\n",
    "        # Decoder\n",
    "        # The input to the decoder should be the \"context\" or \"bottleneck\" representation.\n",
    "        # We can feed the `encoded_seq2` (output sequence of bottleneck LSTM) directly.\n",
    "        decoded_seq1, _ = self.decoder_lstm1(encoded_seq2)\n",
    "        decoded_seq2, _ = self.decoder_lstm2(decoded_seq1)\n",
    "        # decoded_seq2 is (batch, seq_len, n_features)\n",
    "\n",
    "        reconstructed = self.output_fc(decoded_seq2) # Pass through final linear layer\n",
    "        reconstructed = self.sigmoid(reconstructed) # Apply sigmoid for 0-1 range\n",
    "\n",
    "        return reconstructed\n"
   ]
  },
  {
   "cell_type": "code",
   "execution_count": 17,
   "id": "017f11c8",
   "metadata": {
    "execution": {
     "iopub.execute_input": "2025-06-09T15:49:01.000889Z",
     "iopub.status.busy": "2025-06-09T15:49:01.000707Z",
     "iopub.status.idle": "2025-06-09T15:49:01.049189Z",
     "shell.execute_reply": "2025-06-09T15:49:01.048673Z"
    },
    "papermill": {
     "duration": 0.056029,
     "end_time": "2025-06-09T15:49:01.050127",
     "exception": false,
     "start_time": "2025-06-09T15:49:00.994098",
     "status": "completed"
    },
    "tags": []
   },
   "outputs": [
    {
     "data": {
      "text/plain": [
       "device(type='cuda')"
      ]
     },
     "execution_count": 17,
     "metadata": {},
     "output_type": "execute_result"
    }
   ],
   "source": [
    "DEVICE = torch.device(\"cuda\" if torch.cuda.is_available() else \"cpu\")\n",
    "DEVICE"
   ]
  },
  {
   "cell_type": "code",
   "execution_count": 18,
   "id": "df8de869",
   "metadata": {
    "execution": {
     "iopub.execute_input": "2025-06-09T15:49:01.108993Z",
     "iopub.status.busy": "2025-06-09T15:49:01.108217Z",
     "iopub.status.idle": "2025-06-09T15:49:05.586212Z",
     "shell.execute_reply": "2025-06-09T15:49:05.585399Z"
    },
    "papermill": {
     "duration": 4.486758,
     "end_time": "2025-06-09T15:49:05.587741",
     "exception": false,
     "start_time": "2025-06-09T15:49:01.100983",
     "status": "completed"
    },
    "tags": []
   },
   "outputs": [
    {
     "name": "stdout",
     "output_type": "stream",
     "text": [
      "\n",
      "Model Architecture:\n",
      "LSTMAutoencoder(\n",
      "  (encoder_lstm1): LSTM(122, 128, batch_first=True)\n",
      "  (encoder_lstm2): LSTM(128, 64, batch_first=True)\n",
      "  (decoder_lstm1): LSTM(64, 128, batch_first=True)\n",
      "  (decoder_lstm2): LSTM(128, 122, batch_first=True)\n",
      "  (output_fc): Linear(in_features=122, out_features=122, bias=True)\n",
      "  (sigmoid): Sigmoid()\n",
      ")\n"
     ]
    }
   ],
   "source": [
    "model = LSTMAutoencoder(\n",
    "    N_FEATURES, N_TIMESTEPS, HIDDEN_DIM_LSTM_1, HIDDEN_DIM_LSTM_2).to(DEVICE)\n",
    "print(\"\\nModel Architecture:\")\n",
    "print(model)\n",
    "\n",
    "criterion = nn.MSELoss(reduction='none') # Use 'none' to get per-element loss for detailed error calculation\n",
    "optimizer = optim.Adam(model.parameters(), lr=LEARNING_RATE)"
   ]
  },
  {
   "cell_type": "code",
   "execution_count": 19,
   "id": "ffc1a4ae",
   "metadata": {
    "execution": {
     "iopub.execute_input": "2025-06-09T15:49:05.602564Z",
     "iopub.status.busy": "2025-06-09T15:49:05.602194Z",
     "iopub.status.idle": "2025-06-09T15:49:06.227234Z",
     "shell.execute_reply": "2025-06-09T15:49:06.226671Z"
    },
    "papermill": {
     "duration": 0.633815,
     "end_time": "2025-06-09T15:49:06.228706",
     "exception": false,
     "start_time": "2025-06-09T15:49:05.594891",
     "status": "completed"
    },
    "tags": []
   },
   "outputs": [],
   "source": [
    "X_train_normal_np, X_val_normal_np = train_test_split(\n",
    "    train, test_size=0.2, random_state=42\n",
    ")"
   ]
  },
  {
   "cell_type": "code",
   "execution_count": 20,
   "id": "e2cf80d6",
   "metadata": {
    "execution": {
     "iopub.execute_input": "2025-06-09T15:49:06.242933Z",
     "iopub.status.busy": "2025-06-09T15:49:06.242486Z",
     "iopub.status.idle": "2025-06-09T15:49:06.246846Z",
     "shell.execute_reply": "2025-06-09T15:49:06.246168Z"
    },
    "papermill": {
     "duration": 0.012381,
     "end_time": "2025-06-09T15:49:06.247930",
     "exception": false,
     "start_time": "2025-06-09T15:49:06.235549",
     "status": "completed"
    },
    "tags": []
   },
   "outputs": [
    {
     "data": {
      "text/plain": [
       "(62764, 30, 122)"
      ]
     },
     "execution_count": 20,
     "metadata": {},
     "output_type": "execute_result"
    }
   ],
   "source": [
    "X_train_normal_np.shape"
   ]
  },
  {
   "cell_type": "code",
   "execution_count": 21,
   "id": "efec365e",
   "metadata": {
    "execution": {
     "iopub.execute_input": "2025-06-09T15:49:06.261214Z",
     "iopub.status.busy": "2025-06-09T15:49:06.261016Z",
     "iopub.status.idle": "2025-06-09T15:49:06.264464Z",
     "shell.execute_reply": "2025-06-09T15:49:06.263744Z"
    },
    "papermill": {
     "duration": 0.011197,
     "end_time": "2025-06-09T15:49:06.265529",
     "exception": false,
     "start_time": "2025-06-09T15:49:06.254332",
     "status": "completed"
    },
    "tags": []
   },
   "outputs": [],
   "source": [
    "scalers = [MinMaxScaler(feature_range=(0,1)) for _ in range(N_FEATURES)]"
   ]
  },
  {
   "cell_type": "code",
   "execution_count": 22,
   "id": "09e1231f",
   "metadata": {
    "execution": {
     "iopub.execute_input": "2025-06-09T15:49:06.278934Z",
     "iopub.status.busy": "2025-06-09T15:49:06.278741Z",
     "iopub.status.idle": "2025-06-09T15:49:12.164144Z",
     "shell.execute_reply": "2025-06-09T15:49:12.163539Z"
    },
    "papermill": {
     "duration": 5.893824,
     "end_time": "2025-06-09T15:49:12.165651",
     "exception": false,
     "start_time": "2025-06-09T15:49:06.271827",
     "status": "completed"
    },
    "tags": []
   },
   "outputs": [],
   "source": [
    "temp_train_data_for_scaling = X_train_normal_np.reshape(-1, N_FEATURES)\n",
    "for i in range(N_FEATURES):\n",
    "    scalers[i].fit(temp_train_data_for_scaling[:, i].reshape(-1, 1))"
   ]
  },
  {
   "cell_type": "code",
   "execution_count": 23,
   "id": "635114c7",
   "metadata": {
    "execution": {
     "iopub.execute_input": "2025-06-09T15:49:12.179857Z",
     "iopub.status.busy": "2025-06-09T15:49:12.179639Z",
     "iopub.status.idle": "2025-06-09T15:49:12.183732Z",
     "shell.execute_reply": "2025-06-09T15:49:12.183153Z"
    },
    "papermill": {
     "duration": 0.012103,
     "end_time": "2025-06-09T15:49:12.184713",
     "exception": false,
     "start_time": "2025-06-09T15:49:12.172610",
     "status": "completed"
    },
    "tags": []
   },
   "outputs": [],
   "source": [
    "def scale_data_sequences(sequences_np, scalers_list):\n",
    "    scaled_sequences = np.zeros_like(sequences_np)\n",
    "    for i in range(N_FEATURES):\n",
    "        # Reshape feature column for all samples and timesteps, scale, then reshape back\n",
    "        feature_col_flat = sequences_np[:, :, i].reshape(-1, 1)\n",
    "        scaled_feature_col_flat = scalers_list[i].transform(feature_col_flat)\n",
    "        scaled_sequences[:, :, i] = scaled_feature_col_flat.reshape(sequences_np.shape[0], N_TIMESTEPS)\n",
    "    return scaled_sequences"
   ]
  },
  {
   "cell_type": "code",
   "execution_count": 24,
   "id": "2cee82e9",
   "metadata": {
    "execution": {
     "iopub.execute_input": "2025-06-09T15:49:12.198206Z",
     "iopub.status.busy": "2025-06-09T15:49:12.198032Z",
     "iopub.status.idle": "2025-06-09T15:49:13.064731Z",
     "shell.execute_reply": "2025-06-09T15:49:13.064148Z"
    },
    "papermill": {
     "duration": 0.875103,
     "end_time": "2025-06-09T15:49:13.066199",
     "exception": false,
     "start_time": "2025-06-09T15:49:12.191096",
     "status": "completed"
    },
    "tags": []
   },
   "outputs": [],
   "source": [
    "X_test_sequences = dropped_atk.iloc[:,:-1]\n",
    "y_test_anomaly_sequences_np = np.array(dropped_atk.iloc[:,-1]).astype(float)\n",
    "X_test_sequences_np = build_dataset(X_test_sequences)"
   ]
  },
  {
   "cell_type": "code",
   "execution_count": 25,
   "id": "902f0f48",
   "metadata": {
    "execution": {
     "iopub.execute_input": "2025-06-09T15:49:13.081088Z",
     "iopub.status.busy": "2025-06-09T15:49:13.080858Z",
     "iopub.status.idle": "2025-06-09T15:49:15.739472Z",
     "shell.execute_reply": "2025-06-09T15:49:15.738913Z"
    },
    "papermill": {
     "duration": 2.666898,
     "end_time": "2025-06-09T15:49:15.740543",
     "exception": false,
     "start_time": "2025-06-09T15:49:13.073645",
     "status": "completed"
    },
    "tags": []
   },
   "outputs": [],
   "source": [
    "X_test_sequences_np = X_test_sequences_np.astype(float)"
   ]
  },
  {
   "cell_type": "code",
   "execution_count": 26,
   "id": "b50d280e",
   "metadata": {
    "execution": {
     "iopub.execute_input": "2025-06-09T15:49:15.755643Z",
     "iopub.status.busy": "2025-06-09T15:49:15.755146Z",
     "iopub.status.idle": "2025-06-09T15:49:15.759166Z",
     "shell.execute_reply": "2025-06-09T15:49:15.758633Z"
    },
    "papermill": {
     "duration": 0.012546,
     "end_time": "2025-06-09T15:49:15.760217",
     "exception": false,
     "start_time": "2025-06-09T15:49:15.747671",
     "status": "completed"
    },
    "tags": []
   },
   "outputs": [
    {
     "data": {
      "text/plain": [
       "172801"
      ]
     },
     "execution_count": 26,
     "metadata": {},
     "output_type": "execute_result"
    }
   ],
   "source": [
    "len(dropped_atk)"
   ]
  },
  {
   "cell_type": "code",
   "execution_count": 27,
   "id": "7a36ab2a",
   "metadata": {
    "execution": {
     "iopub.execute_input": "2025-06-09T15:49:15.774069Z",
     "iopub.status.busy": "2025-06-09T15:49:15.773883Z",
     "iopub.status.idle": "2025-06-09T15:49:15.778119Z",
     "shell.execute_reply": "2025-06-09T15:49:15.777470Z"
    },
    "papermill": {
     "duration": 0.012253,
     "end_time": "2025-06-09T15:49:15.779139",
     "exception": false,
     "start_time": "2025-06-09T15:49:15.766886",
     "status": "completed"
    },
    "tags": []
   },
   "outputs": [
    {
     "data": {
      "text/plain": [
       "(17278, 30, 122)"
      ]
     },
     "execution_count": 27,
     "metadata": {},
     "output_type": "execute_result"
    }
   ],
   "source": [
    "X_test_sequences_np.shape"
   ]
  },
  {
   "cell_type": "code",
   "execution_count": 28,
   "id": "4c11b71f",
   "metadata": {
    "execution": {
     "iopub.execute_input": "2025-06-09T15:49:15.792806Z",
     "iopub.status.busy": "2025-06-09T15:49:15.792605Z",
     "iopub.status.idle": "2025-06-09T15:49:28.216821Z",
     "shell.execute_reply": "2025-06-09T15:49:28.216161Z"
    },
    "papermill": {
     "duration": 12.432574,
     "end_time": "2025-06-09T15:49:28.218320",
     "exception": false,
     "start_time": "2025-06-09T15:49:15.785746",
     "status": "completed"
    },
    "tags": []
   },
   "outputs": [],
   "source": [
    "X_train_scaled_np = scale_data_sequences(X_train_normal_np, scalers)\n",
    "X_val_scaled_np = scale_data_sequences(X_val_normal_np, scalers)\n",
    "X_test_scaled_np = scale_data_sequences(X_test_sequences_np, scalers)"
   ]
  },
  {
   "cell_type": "code",
   "execution_count": 29,
   "id": "7882fb60",
   "metadata": {
    "execution": {
     "iopub.execute_input": "2025-06-09T15:49:28.234136Z",
     "iopub.status.busy": "2025-06-09T15:49:28.233693Z",
     "iopub.status.idle": "2025-06-09T15:49:28.238049Z",
     "shell.execute_reply": "2025-06-09T15:49:28.237389Z"
    },
    "papermill": {
     "duration": 0.012795,
     "end_time": "2025-06-09T15:49:28.239242",
     "exception": false,
     "start_time": "2025-06-09T15:49:28.226447",
     "status": "completed"
    },
    "tags": []
   },
   "outputs": [
    {
     "data": {
      "text/plain": [
       "(17278, 30, 122)"
      ]
     },
     "execution_count": 29,
     "metadata": {},
     "output_type": "execute_result"
    }
   ],
   "source": [
    "X_test_sequences_np.shape"
   ]
  },
  {
   "cell_type": "code",
   "execution_count": 30,
   "id": "7f69c746",
   "metadata": {
    "execution": {
     "iopub.execute_input": "2025-06-09T15:49:28.253409Z",
     "iopub.status.busy": "2025-06-09T15:49:28.253073Z",
     "iopub.status.idle": "2025-06-09T15:49:29.224161Z",
     "shell.execute_reply": "2025-06-09T15:49:29.223318Z"
    },
    "papermill": {
     "duration": 0.979593,
     "end_time": "2025-06-09T15:49:29.225605",
     "exception": false,
     "start_time": "2025-06-09T15:49:28.246012",
     "status": "completed"
    },
    "tags": []
   },
   "outputs": [],
   "source": [
    "X_train_tensor = torch.tensor(X_train_scaled_np, dtype=torch.float32).to(DEVICE)\n",
    "X_val_tensor = torch.tensor(X_val_scaled_np, dtype=torch.float32).to(DEVICE)\n",
    "X_test_tensor = torch.tensor(X_test_scaled_np, dtype=torch.float32).to(DEVICE)\n",
    "\n",
    "# Create DataLoaders\n",
    "train_dataset = TensorDataset(X_train_tensor, X_train_tensor)\n",
    "train_loader = DataLoader(train_dataset, batch_size=BATCH_SIZE, shuffle=True, drop_last=True)\n",
    "\n",
    "val_dataset = TensorDataset(X_val_tensor, X_val_tensor)\n",
    "val_loader = DataLoader(val_dataset, batch_size=BATCH_SIZE, shuffle=False)\n",
    "\n",
    "# Test loader for final evaluation on data from FILE_PATH_2\n",
    "# The \"target\" for the autoencoder is still the input sequence itself for calculating reconstruction error.\n",
    "# The y_test_anomaly_sequences_np will be used for performance metrics.\n",
    "test_dataset = TensorDataset(X_test_tensor, X_test_tensor)\n",
    "test_loader = DataLoader(test_dataset, batch_size=BATCH_SIZE, shuffle=False)"
   ]
  },
  {
   "cell_type": "code",
   "execution_count": 31,
   "id": "056168c6",
   "metadata": {
    "execution": {
     "iopub.execute_input": "2025-06-09T15:49:29.240083Z",
     "iopub.status.busy": "2025-06-09T15:49:29.239846Z",
     "iopub.status.idle": "2025-06-09T15:52:47.488266Z",
     "shell.execute_reply": "2025-06-09T15:52:47.487473Z"
    },
    "papermill": {
     "duration": 198.257144,
     "end_time": "2025-06-09T15:52:47.489739",
     "exception": false,
     "start_time": "2025-06-09T15:49:29.232595",
     "status": "completed"
    },
    "tags": []
   },
   "outputs": [
    {
     "name": "stdout",
     "output_type": "stream",
     "text": [
      "\n",
      "Starting Training...\n",
      "Epoch 1: Validation loss improved to 0.034839. Saving model state.\n",
      "Epoch 1/200, Train Loss: 0.037040, Val Loss: 0.034839\n",
      "Epoch 2: Validation loss (0.034899) did not improve from best (0.034839). Patience: 1/5.\n",
      "Epoch 3: Validation loss improved to 0.011935. Saving model state.\n",
      "Epoch 3/200, Train Loss: 0.022850, Val Loss: 0.011935\n",
      "Epoch 4: Validation loss improved to 0.007117. Saving model state.\n",
      "Epoch 4/200, Train Loss: 0.009063, Val Loss: 0.007117\n",
      "Epoch 5: Validation loss improved to 0.004558. Saving model state.\n",
      "Epoch 5/200, Train Loss: 0.005922, Val Loss: 0.004558\n",
      "Epoch 6: Validation loss improved to 0.003284. Saving model state.\n",
      "Epoch 6/200, Train Loss: 0.003858, Val Loss: 0.003284\n",
      "Epoch 7: Validation loss improved to 0.002227. Saving model state.\n",
      "Epoch 7/200, Train Loss: 0.002771, Val Loss: 0.002227\n",
      "Epoch 8: Validation loss improved to 0.001695. Saving model state.\n",
      "Epoch 8/200, Train Loss: 0.002086, Val Loss: 0.001695\n",
      "Epoch 9: Validation loss improved to 0.001299. Saving model state.\n",
      "Epoch 9/200, Train Loss: 0.001492, Val Loss: 0.001299\n",
      "Epoch 10: Validation loss improved to 0.001129. Saving model state.\n",
      "Epoch 10/200, Train Loss: 0.001241, Val Loss: 0.001129\n",
      "Epoch 11: Validation loss improved to 0.000886. Saving model state.\n",
      "Epoch 11/200, Train Loss: 0.001047, Val Loss: 0.000886\n",
      "Epoch 12: Validation loss improved to 0.000775. Saving model state.\n",
      "Epoch 12/200, Train Loss: 0.000825, Val Loss: 0.000775\n",
      "Epoch 13: Validation loss improved to 0.000698. Saving model state.\n",
      "Epoch 13/200, Train Loss: 0.000951, Val Loss: 0.000698\n",
      "Epoch 14: Validation loss improved to 0.000684. Saving model state.\n",
      "Epoch 14/200, Train Loss: 0.000684, Val Loss: 0.000684\n",
      "Epoch 15: Validation loss improved to 0.000570. Saving model state.\n",
      "Epoch 15/200, Train Loss: 0.000591, Val Loss: 0.000570\n",
      "Epoch 16: Validation loss improved to 0.000543. Saving model state.\n",
      "Epoch 16/200, Train Loss: 0.000545, Val Loss: 0.000543\n",
      "Epoch 17: Validation loss improved to 0.000473. Saving model state.\n",
      "Epoch 17/200, Train Loss: 0.000512, Val Loss: 0.000473\n",
      "Epoch 18: Validation loss improved to 0.000433. Saving model state.\n",
      "Epoch 18/200, Train Loss: 0.000444, Val Loss: 0.000433\n",
      "Epoch 19: Validation loss improved to 0.000401. Saving model state.\n",
      "Epoch 19/200, Train Loss: 0.000452, Val Loss: 0.000401\n",
      "Epoch 20: Validation loss improved to 0.000378. Saving model state.\n",
      "Epoch 20/200, Train Loss: 0.000385, Val Loss: 0.000378\n",
      "Epoch 21: Validation loss improved to 0.000340. Saving model state.\n",
      "Epoch 21/200, Train Loss: 0.000375, Val Loss: 0.000340\n",
      "Epoch 22: Validation loss improved to 0.000331. Saving model state.\n",
      "Epoch 22/200, Train Loss: 0.000362, Val Loss: 0.000331\n",
      "Epoch 23: Validation loss (0.000411) did not improve from best (0.000331). Patience: 1/5.\n",
      "Epoch 24: Validation loss (0.000402) did not improve from best (0.000331). Patience: 2/5.\n",
      "Epoch 25: Validation loss improved to 0.000303. Saving model state.\n",
      "Epoch 25/200, Train Loss: 0.000336, Val Loss: 0.000303\n",
      "Epoch 26: Validation loss improved to 0.000276. Saving model state.\n",
      "Epoch 26/200, Train Loss: 0.000281, Val Loss: 0.000276\n",
      "Epoch 27: Validation loss improved to 0.000255. Saving model state.\n",
      "Epoch 27/200, Train Loss: 0.000263, Val Loss: 0.000255\n",
      "Epoch 28: Validation loss improved to 0.000250. Saving model state.\n",
      "Epoch 28/200, Train Loss: 0.000333, Val Loss: 0.000250\n",
      "Epoch 29: Validation loss improved to 0.000230. Saving model state.\n",
      "Epoch 29/200, Train Loss: 0.000234, Val Loss: 0.000230\n",
      "Epoch 30: Validation loss improved to 0.000228. Saving model state.\n",
      "Epoch 30/200, Train Loss: 0.000226, Val Loss: 0.000228\n",
      "Epoch 31: Validation loss (0.000952) did not improve from best (0.000228). Patience: 1/5.\n",
      "Epoch 32: Validation loss (0.000365) did not improve from best (0.000228). Patience: 2/5.\n",
      "Epoch 33: Validation loss (0.000289) did not improve from best (0.000228). Patience: 3/5.\n",
      "Epoch 34: Validation loss (0.000250) did not improve from best (0.000228). Patience: 4/5.\n",
      "Epoch 35: Validation loss (0.000228) did not improve from best (0.000228). Patience: 5/5.\n",
      "\n",
      "Early stopping triggered after 35 epochs as validation loss did not improve for 5 epochs.\n",
      "Loading best model state.\n"
     ]
    }
   ],
   "source": [
    "train_epoch_losses = []\n",
    "val_epoch_losses = []\n",
    "\n",
    "best_val_loss = float('inf')\n",
    "epochs_no_improve = 0\n",
    "best_model_state = None # To store the state of the best model\n",
    "\n",
    "print(\"\\nStarting Training...\")\n",
    "for epoch in range(EPOCHS):\n",
    "    model.train()\n",
    "    running_train_loss = 0.0\n",
    "    for sequences, _ in train_loader:\n",
    "        sequences = sequences.to(DEVICE)\n",
    "        optimizer.zero_grad()\n",
    "        reconstructed = model(sequences)\n",
    "        loss_elements = criterion(reconstructed, sequences)\n",
    "        loss_batch = torch.mean(loss_elements)\n",
    "        loss_batch.backward()\n",
    "        optimizer.step()\n",
    "        running_train_loss += loss_batch.item() * sequences.size(0)\n",
    "    \n",
    "    epoch_train_loss = running_train_loss / len(train_loader.dataset)\n",
    "    train_epoch_losses.append(epoch_train_loss)\n",
    "\n",
    "    model.eval()\n",
    "    running_val_loss = 0.0\n",
    "    current_epoch_val_loss_value = float('nan')\n",
    "\n",
    "\n",
    "    with torch.no_grad():\n",
    "        for sequences, _ in val_loader:\n",
    "            sequences = sequences.to(DEVICE)\n",
    "            reconstructed = model(sequences)\n",
    "            loss_elements = criterion(reconstructed, sequences)\n",
    "            loss_batch = torch.mean(loss_elements)\n",
    "            running_val_loss += loss_batch.item() * sequences.size(0)\n",
    "    \n",
    "    current_epoch_val_loss_value = running_val_loss / len(val_loader.dataset)\n",
    "    val_epoch_losses.append(current_epoch_val_loss_value)\n",
    "\n",
    "    # Early Stopping Check\n",
    "    if current_epoch_val_loss_value < best_val_loss:\n",
    "        best_val_loss = current_epoch_val_loss_value\n",
    "        epochs_no_improve = 0\n",
    "        # Save the best model state\n",
    "        best_model_state = copy.deepcopy(model.state_dict())\n",
    "        print(f\"Epoch {epoch+1}: Validation loss improved to {best_val_loss:.6f}. Saving model state.\")\n",
    "    else:\n",
    "        epochs_no_improve += 1\n",
    "        print(f\"Epoch {epoch+1}: Validation loss ({current_epoch_val_loss_value:.6f}) did not improve from best ({best_val_loss:.6f}). Patience: {epochs_no_improve}/{PATIENCE}.\")\n",
    "\n",
    "\n",
    "    if (epoch + 1) % 10 == 0 or epoch == 0 or epoch == EPOCHS -1 or epochs_no_improve == 0 : # Print more often if improving\n",
    "        print(f\"Epoch {epoch+1}/{EPOCHS}, Train Loss: {epoch_train_loss:.6f}, Val Loss: {current_epoch_val_loss_value:.6f}\")\n",
    "    \n",
    "    if epochs_no_improve >= PATIENCE:\n",
    "        print(f\"\\nEarly stopping triggered after {epoch + 1} epochs as validation loss did not improve for {PATIENCE} epochs.\")\n",
    "        if best_model_state:\n",
    "            print(\"Loading best model state.\")\n",
    "            model.load_state_dict(best_model_state) # Load the best model found\n",
    "        break\n",
    "\n",
    "# After training loop (either completed all epochs or early stopped)\n",
    "if best_model_state and epochs_no_improve >= PATIENCE : # If early stopping was triggered\n",
    "    pass # Model is already loaded with best_model_state\n",
    "elif best_model_state : # If training finished but best_model_state was captured (e.g. last epoch was best)\n",
    "    model.load_state_dict(best_model_state)\n",
    "else:\n",
    "    print(\"Training finished.\")\n"
   ]
  },
  {
   "cell_type": "code",
   "execution_count": 32,
   "id": "b35f79b7",
   "metadata": {
    "execution": {
     "iopub.execute_input": "2025-06-09T15:52:47.507905Z",
     "iopub.status.busy": "2025-06-09T15:52:47.507235Z",
     "iopub.status.idle": "2025-06-09T15:52:47.515611Z",
     "shell.execute_reply": "2025-06-09T15:52:47.515047Z"
    },
    "papermill": {
     "duration": 0.017977,
     "end_time": "2025-06-09T15:52:47.516691",
     "exception": false,
     "start_time": "2025-06-09T15:52:47.498714",
     "status": "completed"
    },
    "tags": []
   },
   "outputs": [],
   "source": [
    "save_path = \"best.pth\"\n",
    "torch.save(model.state_dict(), save_path)"
   ]
  },
  {
   "cell_type": "code",
   "execution_count": 33,
   "id": "83d86d07",
   "metadata": {
    "execution": {
     "iopub.execute_input": "2025-06-09T15:52:47.533849Z",
     "iopub.status.busy": "2025-06-09T15:52:47.533654Z",
     "iopub.status.idle": "2025-06-09T15:52:47.536269Z",
     "shell.execute_reply": "2025-06-09T15:52:47.535787Z"
    },
    "papermill": {
     "duration": 0.01228,
     "end_time": "2025-06-09T15:52:47.537182",
     "exception": false,
     "start_time": "2025-06-09T15:52:47.524902",
     "status": "completed"
    },
    "tags": []
   },
   "outputs": [],
   "source": [
    "# state_dict = torch.load('/kaggle/input/lstm_autoencoder/pytorch/lstm/2/best.pth', map_location=DEVICE)\n",
    "# model.load_state_dict(state_dict)"
   ]
  },
  {
   "cell_type": "code",
   "execution_count": 34,
   "id": "5f5808e1",
   "metadata": {
    "execution": {
     "iopub.execute_input": "2025-06-09T15:52:47.553810Z",
     "iopub.status.busy": "2025-06-09T15:52:47.553624Z",
     "iopub.status.idle": "2025-06-09T15:52:48.025524Z",
     "shell.execute_reply": "2025-06-09T15:52:48.024880Z"
    },
    "papermill": {
     "duration": 0.482049,
     "end_time": "2025-06-09T15:52:48.027216",
     "exception": false,
     "start_time": "2025-06-09T15:52:47.545167",
     "status": "completed"
    },
    "tags": []
   },
   "outputs": [
    {
     "data": {
      "image/png": "[encoded data removed]",
      "text/plain": [
       "<Figure size 1000x600 with 1 Axes>"
      ]
     },
     "metadata": {},
     "output_type": "display_data"
    }
   ],
   "source": [
    "plt.figure(figsize=(10, 6))\n",
    "plt.plot(train_epoch_losses, label='Training Loss')\n",
    "plt.plot(val_epoch_losses, label='Validation Loss')\n",
    "plt.title('Model Loss During Training')\n",
    "plt.ylabel('Mean Squared Error (MSE)')\n",
    "plt.xlabel('Epoch')\n",
    "plt.axhline(y=best_val_loss, color='r', linestyle='--', label=f'Best Val Loss: {best_val_loss:.6f}')\n",
    "plt.legend()\n",
    "plt.grid(True)\n",
    "plt.show()"
   ]
  },
  {
   "cell_type": "code",
   "execution_count": 35,
   "id": "385ad801",
   "metadata": {
    "execution": {
     "iopub.execute_input": "2025-06-09T15:52:48.046186Z",
     "iopub.status.busy": "2025-06-09T15:52:48.045989Z",
     "iopub.status.idle": "2025-06-09T15:52:48.648047Z",
     "shell.execute_reply": "2025-06-09T15:52:48.647271Z"
    },
    "papermill": {
     "duration": 0.612984,
     "end_time": "2025-06-09T15:52:48.649461",
     "exception": false,
     "start_time": "2025-06-09T15:52:48.036477",
     "status": "completed"
    },
    "tags": []
   },
   "outputs": [],
   "source": [
    "model.eval()\n",
    "\n",
    "val_normal_reconstruction_errors = []\n",
    "with torch.no_grad():\n",
    "    for sequences, _ in val_loader:\n",
    "        sequences = sequences.to(DEVICE)\n",
    "        reconstructed = model(sequences)\n",
    "        loss_elements = criterion(reconstructed, sequences)\n",
    "        errors_per_sample = torch.mean(loss_elements, dim=[1, 2])\n",
    "        val_normal_reconstruction_errors.extend(errors_per_sample.cpu().numpy())"
   ]
  },
  {
   "cell_type": "code",
   "execution_count": 36,
   "id": "d016e371",
   "metadata": {
    "execution": {
     "iopub.execute_input": "2025-06-09T15:52:48.668100Z",
     "iopub.status.busy": "2025-06-09T15:52:48.667868Z",
     "iopub.status.idle": "2025-06-09T15:52:48.672073Z",
     "shell.execute_reply": "2025-06-09T15:52:48.671549Z"
    },
    "papermill": {
     "duration": 0.014361,
     "end_time": "2025-06-09T15:52:48.673079",
     "exception": false,
     "start_time": "2025-06-09T15:52:48.658718",
     "status": "completed"
    },
    "tags": []
   },
   "outputs": [
    {
     "data": {
      "text/plain": [
       "torch.Size([11])"
      ]
     },
     "execution_count": 36,
     "metadata": {},
     "output_type": "execute_result"
    }
   ],
   "source": [
    "errors_per_sample.shape"
   ]
  },
  {
   "cell_type": "code",
   "execution_count": 37,
   "id": "bfd8206a",
   "metadata": {
    "execution": {
     "iopub.execute_input": "2025-06-09T15:52:48.691075Z",
     "iopub.status.busy": "2025-06-09T15:52:48.690868Z",
     "iopub.status.idle": "2025-06-09T15:52:48.697317Z",
     "shell.execute_reply": "2025-06-09T15:52:48.696754Z"
    },
    "papermill": {
     "duration": 0.016636,
     "end_time": "2025-06-09T15:52:48.698425",
     "exception": false,
     "start_time": "2025-06-09T15:52:48.681789",
     "status": "completed"
    },
    "tags": []
   },
   "outputs": [
    {
     "name": "stdout",
     "output_type": "stream",
     "text": [
      "\n",
      "Anomaly Threshold (95th percentile of normal validation MSE): 0.000829\n"
     ]
    }
   ],
   "source": [
    "mse_val_normal_np = np.array(val_normal_reconstruction_errors)\n",
    "anomaly_threshold = np.percentile(mse_val_normal_np, 95)\n",
    "print(f\"\\nAnomaly Threshold ({THRESHOLD_PERCENTILE}th percentile of normal validation MSE): {anomaly_threshold:.6f}\")"
   ]
  },
  {
   "cell_type": "code",
   "execution_count": 38,
   "id": "72dbcb68",
   "metadata": {
    "execution": {
     "iopub.execute_input": "2025-06-09T15:52:48.716817Z",
     "iopub.status.busy": "2025-06-09T15:52:48.716618Z",
     "iopub.status.idle": "2025-06-09T15:52:48.948078Z",
     "shell.execute_reply": "2025-06-09T15:52:48.947308Z"
    },
    "papermill": {
     "duration": 0.241899,
     "end_time": "2025-06-09T15:52:48.949291",
     "exception": false,
     "start_time": "2025-06-09T15:52:48.707392",
     "status": "completed"
    },
    "tags": []
   },
   "outputs": [
    {
     "data": {
      "image/png": "[encoded data removed]",
      "text/plain": [
       "<Figure size 1000x600 with 1 Axes>"
      ]
     },
     "metadata": {},
     "output_type": "display_data"
    }
   ],
   "source": [
    "plt.figure(figsize=(10, 6))\n",
    "plt.hist(mse_val_normal_np, bins=50, label='MSE on Normal Validation Data', alpha=0.7, density=True)\n",
    "plt.axvline(anomaly_threshold, color='r', linestyle='dashed', linewidth=2, label=f'Threshold ({anomaly_threshold:.6f})')\n",
    "plt.title('Reconstruction Error Distribution on Normal Validation Data')\n",
    "plt.xlabel('Mean Squared Error (MSE)')\n",
    "plt.ylabel('Density')\n",
    "plt.legend()\n",
    "plt.grid(True)\n",
    "plt.show()"
   ]
  },
  {
   "cell_type": "code",
   "execution_count": 39,
   "id": "ee7509e9",
   "metadata": {
    "execution": {
     "iopub.execute_input": "2025-06-09T15:52:48.977743Z",
     "iopub.status.busy": "2025-06-09T15:52:48.977302Z",
     "iopub.status.idle": "2025-06-09T15:52:48.983099Z",
     "shell.execute_reply": "2025-06-09T15:52:48.982333Z"
    },
    "papermill": {
     "duration": 0.022893,
     "end_time": "2025-06-09T15:52:48.984669",
     "exception": false,
     "start_time": "2025-06-09T15:52:48.961776",
     "status": "completed"
    },
    "tags": []
   },
   "outputs": [],
   "source": [
    "def create_labels_for_sequences(original_point_labels, n_timesteps, num_sequences, step_size):\n",
    "    if original_point_labels is None or num_sequences == 0:\n",
    "        return np.zeros(num_sequences, dtype=int)\n",
    "\n",
    "    y_sequence_labels = np.zeros(num_sequences, dtype=int)\n",
    "    for i in range(num_sequences):\n",
    "        actual_start_index_in_raw = i * step_size\n",
    "        if actual_start_index_in_raw + n_timesteps <= len(original_point_labels):\n",
    "            if np.any(original_point_labels[actual_start_index_in_raw : actual_start_index_in_raw + n_timesteps] == 1):\n",
    "                y_sequence_labels[i] = 1\n",
    "        else:\n",
    "            print(f\"Warning: Trying to access labels out of bounds for sequence index {i}. Raw start: {actual_start_index_in_raw}, Label length: {len(original_point_labels)}\")\n",
    "    return y_sequence_labels"
   ]
  },
  {
   "cell_type": "code",
   "execution_count": 40,
   "id": "ea091e68",
   "metadata": {
    "execution": {
     "iopub.execute_input": "2025-06-09T15:52:49.014417Z",
     "iopub.status.busy": "2025-06-09T15:52:49.014052Z",
     "iopub.status.idle": "2025-06-09T15:52:49.158580Z",
     "shell.execute_reply": "2025-06-09T15:52:49.157668Z"
    },
    "papermill": {
     "duration": 0.160669,
     "end_time": "2025-06-09T15:52:49.160414",
     "exception": false,
     "start_time": "2025-06-09T15:52:48.999745",
     "status": "completed"
    },
    "tags": []
   },
   "outputs": [],
   "source": [
    "y_test_sequence_labels_np = create_labels_for_sequences(\n",
    "            y_test_anomaly_sequences_np, N_TIMESTEPS, X_test_sequences_np.shape[0], 10\n",
    "        )"
   ]
  },
  {
   "cell_type": "code",
   "execution_count": 41,
   "id": "fe3251b3",
   "metadata": {
    "execution": {
     "iopub.execute_input": "2025-06-09T15:52:49.187666Z",
     "iopub.status.busy": "2025-06-09T15:52:49.187075Z",
     "iopub.status.idle": "2025-06-09T15:52:49.190565Z",
     "shell.execute_reply": "2025-06-09T15:52:49.189860Z"
    },
    "papermill": {
     "duration": 0.015134,
     "end_time": "2025-06-09T15:52:49.191896",
     "exception": false,
     "start_time": "2025-06-09T15:52:49.176762",
     "status": "completed"
    },
    "tags": []
   },
   "outputs": [],
   "source": [
    "y_test_raw_point_labels_np = y_test_anomaly_sequences_np"
   ]
  },
  {
   "cell_type": "code",
   "execution_count": 42,
   "id": "68532cfd",
   "metadata": {
    "execution": {
     "iopub.execute_input": "2025-06-09T15:52:49.222584Z",
     "iopub.status.busy": "2025-06-09T15:52:49.222115Z",
     "iopub.status.idle": "2025-06-09T15:52:51.006145Z",
     "shell.execute_reply": "2025-06-09T15:52:51.005322Z"
    },
    "papermill": {
     "duration": 1.798684,
     "end_time": "2025-06-09T15:52:51.007342",
     "exception": false,
     "start_time": "2025-06-09T15:52:49.208658",
     "status": "completed"
    },
    "tags": []
   },
   "outputs": [
    {
     "name": "stdout",
     "output_type": "stream",
     "text": [
      "\n",
      "--- Point-wise Anomaly Detection Results ---\n",
      "Number of true point-wise anomalies in test dataset: 9977\n",
      "Number of predicted point-wise anomalies in test dataset: 62010\n",
      "\n",
      "Point-wise Classification Report on Test Dataset:\n",
      "              precision    recall  f1-score   support\n",
      "\n",
      "      Normal       0.98      0.67      0.80    162824\n",
      "     Anomaly       0.13      0.81      0.23      9977\n",
      "\n",
      "    accuracy                           0.68    172801\n",
      "   macro avg       0.56      0.74      0.51    172801\n",
      "weighted avg       0.93      0.68      0.76    172801\n",
      "\n"
     ]
    }
   ],
   "source": [
    "test_data_sequence_errors = []\n",
    "test_data_reconstructed_sequences_list = []\n",
    "original_test_sequences_for_plot_list = []\n",
    "\n",
    "with torch.no_grad():\n",
    "    for sequences, _ in test_loader:\n",
    "        sequences = sequences.to(DEVICE)\n",
    "        reconstructed = model(sequences)\n",
    "        loss_elements = criterion(reconstructed, sequences)\n",
    "        errors_per_sample = torch.mean(loss_elements, dim=[1, 2])\n",
    "        test_data_sequence_errors.extend(errors_per_sample.cpu().numpy())\n",
    "        test_data_reconstructed_sequences_list.append(reconstructed.cpu().numpy())\n",
    "        original_test_sequences_for_plot_list.append(sequences.cpu().numpy())\n",
    "\n",
    "mse_test_sequences_np = np.array(test_data_sequence_errors)\n",
    "\n",
    "pointwise_error_sum = np.zeros(len(dropped_df))\n",
    "pointwise_error_count = np.zeros(len(dropped_df))\n",
    "\n",
    "for seq_idx in range(len(X_test_sequences_np)):\n",
    "    sequence_error = mse_test_sequences_np[seq_idx]\n",
    "    raw_start_idx = seq_idx * 10\n",
    "    for point_offset in range(N_TIMESTEPS):\n",
    "        point_idx_in_raw = raw_start_idx + point_offset\n",
    "        if point_idx_in_raw < len(dropped_df):\n",
    "            pointwise_error_sum[point_idx_in_raw] += sequence_error\n",
    "            pointwise_error_count[point_idx_in_raw] += 1\n",
    "        else:\n",
    "            break\n",
    "\n",
    "averaged_pointwise_errors = np.zeros_like(pointwise_error_sum)\n",
    "non_zero_counts_mask = pointwise_error_count > 0\n",
    "averaged_pointwise_errors[non_zero_counts_mask] = pointwise_error_sum[non_zero_counts_mask] / pointwise_error_count[non_zero_counts_mask]\n",
    "\n",
    "y_predict_pointwise = (averaged_pointwise_errors > anomaly_threshold).astype(int)\n",
    "\n",
    "final_y_true_pointwise = y_test_raw_point_labels_np[:len(y_predict_pointwise)]\n",
    "final_y_predict_pointwise = y_predict_pointwise[:len(y_test_raw_point_labels_np)]\n",
    "\n",
    "final_y_true_pointwise[final_y_true_pointwise == 1] = 0\n",
    "\n",
    "final_y_true_pointwise[final_y_true_pointwise == -1] = 1\n",
    "\n",
    "print(f\"\\n--- Point-wise Anomaly Detection Results ---\")\n",
    "print(f\"Number of true point-wise anomalies in test dataset: {np.sum(final_y_true_pointwise == 1)}\")\n",
    "print(f\"Number of predicted point-wise anomalies in test dataset: {np.sum(final_y_predict_pointwise == 1)}\")\n",
    "\n",
    "if (np.any(final_y_true_pointwise == 0) or np.any(final_y_true_pointwise == 1)) and \\\n",
    "   (np.any(final_y_predict_pointwise == 0) or np.any(final_y_predict_pointwise == 1)):\n",
    "    from sklearn.metrics import classification_report, confusion_matrix, f1_score\n",
    "    print(\"\\nPoint-wise Classification Report on Test Dataset:\")\n",
    "    print(classification_report(final_y_true_pointwise, final_y_predict_pointwise, target_names=['Normal', 'Anomaly'], labels=[0, 1], zero_division=0))"
   ]
  },
  {
   "cell_type": "code",
   "execution_count": 43,
   "id": "d16d6304",
   "metadata": {
    "execution": {
     "iopub.execute_input": "2025-06-09T15:52:51.027024Z",
     "iopub.status.busy": "2025-06-09T15:52:51.026804Z",
     "iopub.status.idle": "2025-06-09T15:52:51.030214Z",
     "shell.execute_reply": "2025-06-09T15:52:51.029742Z"
    },
    "papermill": {
     "duration": 0.01424,
     "end_time": "2025-06-09T15:52:51.031221",
     "exception": false,
     "start_time": "2025-06-09T15:52:51.016981",
     "status": "completed"
    },
    "tags": []
   },
   "outputs": [],
   "source": [
    "y_true = final_y_true_pointwise.astype(int)\n",
    "y_pred = final_y_predict_pointwise.astype(int)"
   ]
  },
  {
   "cell_type": "code",
   "execution_count": 44,
   "id": "9b472ef6",
   "metadata": {
    "execution": {
     "iopub.execute_input": "2025-06-09T15:52:51.051022Z",
     "iopub.status.busy": "2025-06-09T15:52:51.050818Z",
     "iopub.status.idle": "2025-06-09T15:52:51.056057Z",
     "shell.execute_reply": "2025-06-09T15:52:51.055359Z"
    },
    "papermill": {
     "duration": 0.016775,
     "end_time": "2025-06-09T15:52:51.057149",
     "exception": false,
     "start_time": "2025-06-09T15:52:51.040374",
     "status": "completed"
    },
    "tags": []
   },
   "outputs": [
    {
     "data": {
      "text/plain": [
       "array([0, 1])"
      ]
     },
     "execution_count": 44,
     "metadata": {},
     "output_type": "execute_result"
    }
   ],
   "source": [
    "np.unique(y_pred)"
   ]
  },
  {
   "cell_type": "code",
   "execution_count": 45,
   "id": "66cf864b",
   "metadata": {
    "execution": {
     "iopub.execute_input": "2025-06-09T15:52:51.076890Z",
     "iopub.status.busy": "2025-06-09T15:52:51.076713Z",
     "iopub.status.idle": "2025-06-09T15:52:51.377034Z",
     "shell.execute_reply": "2025-06-09T15:52:51.376382Z"
    },
    "papermill": {
     "duration": 0.311595,
     "end_time": "2025-06-09T15:52:51.378225",
     "exception": false,
     "start_time": "2025-06-09T15:52:51.066630",
     "status": "completed"
    },
    "tags": []
   },
   "outputs": [
    {
     "name": "stdout",
     "output_type": "stream",
     "text": [
      "Accuracy\t 0.677461357283812\n",
      "Precision\t 0.13104338009998387\n",
      "Recall\t 0.8144732885636965\n",
      "f1 score\t 0.22576298498339978\n",
      "cohen_kappa_score\t 0.1402431143050935\n",
      "auc\t 0.74176963696106\n",
      "roc_auc\t 0.74176963696106\n"
     ]
    },
    {
     "data": {
      "text/plain": [
       "Text(0.5, 23.52222222222222, 'Ground Truth')"
      ]
     },
     "execution_count": 45,
     "metadata": {},
     "output_type": "execute_result"
    },
    {
     "data": {
      "image/png": "[encoded data removed]",
      "text/plain": [
       "<Figure size 640x480 with 2 Axes>"
      ]
     },
     "metadata": {},
     "output_type": "display_data"
    }
   ],
   "source": [
    "import seaborn as sns\n",
    "from sklearn.metrics import cohen_kappa_score\n",
    "from sklearn.metrics import roc_curve, auc, roc_auc_score\n",
    "\n",
    "tn, fp, fn, tp = confusion_matrix(y_true, y_pred).ravel()\n",
    "accuracy = (tp + tn) / (tn + fp + fn + tp)\n",
    "precision = tp / (tp + fp)\n",
    "recall = tp / (tp + fn)\n",
    "f1_score = (2 * precision * recall)/ (precision + recall)\n",
    "cohen_kappa_score = cohen_kappa_score(y_true, y_pred)\n",
    "false_positive_rate, true_positive_rate, thresholds = roc_curve(y_true, y_pred)\n",
    "auc_val = auc(false_positive_rate, true_positive_rate)\n",
    "roc_auc_val = roc_auc_score(y_true, y_pred)\n",
    "\n",
    "print('Accuracy\\t', accuracy)\n",
    "print('Precision\\t', precision)\n",
    "print('Recall\\t', recall)\n",
    "print('f1 score\\t', f1_score)\n",
    "print('cohen_kappa_score\\t', cohen_kappa_score)\n",
    "print('auc\\t', auc_val)\n",
    "print('roc_auc\\t', roc_auc_val)\n",
    "\n",
    "sns.heatmap(confusion_matrix(y_true, y_pred), annot=True)\n",
    "plt.ylabel('Prediction')\n",
    "plt.xlabel('Ground Truth')"
   ]
  },
  {
   "cell_type": "code",
   "execution_count": null,
   "id": "ceecb246",
   "metadata": {
    "papermill": {
     "duration": 0.009894,
     "end_time": "2025-06-09T15:52:51.399284",
     "exception": false,
     "start_time": "2025-06-09T15:52:51.389390",
     "status": "completed"
    },
    "tags": []
   },
   "outputs": [],
   "source": []
  }
 ],
 "metadata": {
  "kaggle": {
   "accelerator": "gpu",
   "dataSources": [
    {
     "datasetId": 5946920,
     "sourceId": 9720141,
     "sourceType": "datasetVersion"
    },
    {
     "isSourceIdPinned": true,
     "modelId": 370273,
     "modelInstanceId": 349009,
     "sourceId": 428825,
     "sourceType": "modelInstanceVersion"
    }
   ],
   "dockerImageVersionId": 31040,
   "isGpuEnabled": true,
   "isInternetEnabled": true,
   "language": "python",
   "sourceType": "notebook"
  },
  "kernelspec": {
   "display_name": "Python 3",
   "language": "python",
   "name": "python3"
  },
  "language_info": {
   "codemirror_mode": {
    "name": "ipython",
    "version": 3
   },
   "file_extension": ".py",
   "mimetype": "text/x-python",
   "name": "python",
   "nbconvert_exporter": "python",
   "pygments_lexer": "ipython3",
   "version": "3.11.11"
  },
  "papermill": {
   "default_parameters": {},
   "duration": 271.363086,
   "end_time": "2025-06-09T15:52:54.211352",
   "environment_variables": {},
   "exception": null,
   "input_path": "__notebook__.ipynb",
   "output_path": "__notebook__.ipynb",
   "parameters": {},
   "start_time": "2025-06-09T15:48:22.848266",
   "version": "2.6.0"
  }
 },
 "nbformat": 4,
 "nbformat_minor": 5
}
